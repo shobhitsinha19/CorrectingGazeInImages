{
  "nbformat": 4,
  "nbformat_minor": 0,
  "metadata": {
    "colab": {
      "name": "gaze.ipynb",
      "provenance": [],
      "collapsed_sections": []
    },
    "kernelspec": {
      "name": "python3",
      "display_name": "Python 3"
    },
    "language_info": {
      "name": "python"
    }
  },
  "cells": [
    {
      "cell_type": "code",
      "execution_count": null,
      "metadata": {
        "id": "Sc-aSR2cYvg7"
      },
      "outputs": [],
      "source": [
        "from google.colab import drive\n",
        "drive.mount('/content/drive', force_remount=True)"
      ]
    },
    {
      "cell_type": "code",
      "source": [
        "#%cd path-of-project"
      ],
      "metadata": {
        "id": "ATfc8CcUYz31"
      },
      "execution_count": null,
      "outputs": []
    },
    {
      "cell_type": "markdown",
      "source": [
        "Select python3.6"
      ],
      "metadata": {
        "id": "GJaEJgiAHj4t"
      }
    },
    {
      "cell_type": "code",
      "source": [
        "# Choose one of the given alternatives:\n",
        "!sudo update-alternatives --config python3\n",
        "\n",
        "# This one used to work but now NOT(for me)!\n",
        "!sudo update-alternatives --config python\n",
        "\n",
        "# Check the result\n",
        "!python3 --version\n",
        "\n",
        "# Attention: Install pip (... needed!)\n",
        "!sudo apt install python3-pip"
      ],
      "metadata": {
        "id": "tKJXFTIHZVU8"
      },
      "execution_count": null,
      "outputs": []
    },
    {
      "cell_type": "code",
      "source": [
        "!python -m pip install --upgrade pip\n",
        "!pip3 install -r requirements.txt\n",
        "!pip install opencv-python"
      ],
      "metadata": {
        "id": "3sToidiiaFAZ"
      },
      "execution_count": null,
      "outputs": []
    },
    {
      "cell_type": "code",
      "source": [
        "!python run.py --mode='train'"
      ],
      "metadata": {
        "id": "l8s8-l6vb_oA"
      },
      "execution_count": null,
      "outputs": []
    },
    {
      "cell_type": "code",
      "source": [
        "!python run.py --mode='test'"
      ],
      "metadata": {
        "id": "9S22ka0teZsq"
      },
      "execution_count": null,
      "outputs": []
    },
    {
      "cell_type": "markdown",
      "source": [
        ""
      ],
      "metadata": {
        "id": "Q6YG3MTUZCWI"
      }
    }
  ]
}